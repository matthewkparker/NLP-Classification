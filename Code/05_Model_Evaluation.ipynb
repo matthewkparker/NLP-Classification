{
 "cells": [
  {
   "cell_type": "markdown",
   "metadata": {},
   "source": [
    "# Model Evaluation"
   ]
  },
  {
   "cell_type": "code",
   "execution_count": 1,
   "metadata": {},
   "outputs": [],
   "source": [
    "import pandas as pd\n",
    "import numpy as np\n",
    "import seaborn as sns\n",
    "import matplotlib.pyplot as plt\n",
    "import pickle\n",
    "from sklearn.metrics import confusion_matrix\n",
    "import warnings; warnings.simplefilter('ignore')"
   ]
  },
  {
   "cell_type": "code",
   "execution_count": 2,
   "metadata": {},
   "outputs": [],
   "source": [
    "X_train = pd.read_csv('../Data/X_train.csv',index_col=0)\n",
    "y_train = pd.read_csv('../Data/y_train.csv',index_col=0)\n",
    "X_test = pd.read_csv(\"../Data/X_test.csv\",index_col=0)\n",
    "y_test = pd.read_csv(\"../Data/y_test.csv\",index_col=0)"
   ]
  },
  {
   "cell_type": "code",
   "execution_count": 3,
   "metadata": {},
   "outputs": [],
   "source": [
    "with open('../Assets/log_reg.pkl','rb') as f:\n",
    "    Log_reg = pickle.load(f)\n",
    "with open('../Assets/MultiNB.pkl','rb') as f:\n",
    "    MultiNB = pickle.load(f)\n",
    "with open('../Assets/Ranfor.pkl','rb') as f:\n",
    "    Ranforr = pickle.load(f)"
   ]
  },
  {
   "cell_type": "code",
   "execution_count": 4,
   "metadata": {},
   "outputs": [
    {
     "name": "stdout",
     "output_type": "stream",
     "text": [
      "Logistic Regression Train Accuracy: 98.1442205726405 Percent \n",
      "Logistic Regression Test Accuracy: 94.11764705882352 Percent \n",
      " \n",
      "Multinomial Naive Bayes Train Accuracy: 96.76564156945918 Percent \n",
      "Multinomial Naive Bayes Test Accuracy: 93.48171701112878 Percent \n",
      " \n",
      "Random Forest Train Accuracy: 99.94697773064686 Percent \n",
      "Random Forest Test Accuracy: 93.64069952305246 Percent\n"
     ]
    }
   ],
   "source": [
    "print('Logistic Regression Train Accuracy:',Log_reg.score(X_train['Total_text'],y_train['subreddit'])*100,'Percent','\\n'\n",
    "      'Logistic Regression Test Accuracy:',Log_reg.score(X_test['Total_text'],y_test['subreddit'])*100,'Percent','\\n', '\\n'\n",
    "      'Multinomial Naive Bayes Train Accuracy:',MultiNB.score(X_train['Total_text'],y_train['subreddit'])*100,'Percent','\\n'\n",
    "      'Multinomial Naive Bayes Test Accuracy:',MultiNB.score(X_test['Total_text'],y_test['subreddit'])*100,'Percent','\\n', '\\n'      \n",
    "      'Random Forest Train Accuracy:',Ranforr.score(X_train['Total_text'],y_train['subreddit'])*100,'Percent','\\n'\n",
    "      'Random Forest Test Accuracy:',Ranforr.score(X_test['Total_text'],y_test['subreddit'])*100,'Percent')"
   ]
  },
  {
   "cell_type": "markdown",
   "metadata": {},
   "source": [
    "Based on the accuracy scores above, all of our models did very well distinguishing which sub reddit each post came from, with Logistic Regression  doing slightly better than the Random Forrest and Multinomial Naive Bayes. We can see that each of our models suffers slightly from over fitting, with Random Forests being the most over fit, and Multinomial Naive Bayes being the least over fit"
   ]
  },
  {
   "cell_type": "markdown",
   "metadata": {},
   "source": [
    "This loop prints out a confusion matrix for each model that I created, with the actual class being on the y axis, and the predicted class being on the x axis"
   ]
  },
  {
   "cell_type": "code",
   "execution_count": 5,
   "metadata": {},
   "outputs": [
    {
     "name": "stdout",
     "output_type": "stream",
     "text": [
      "Logistic Regression\n",
      "            Predicted PPC  Predicted SEO  Predicted Email\n",
      "True PPC              237              6                0\n",
      "True SEO               15            143                3\n",
      "True Email              8              5              212\n",
      "\n",
      "\n",
      "Mulinomial Naive Bayes\n",
      "            Predicted PPC  Predicted SEO  Predicted Email\n",
      "True PPC              235              5                3\n",
      "True SEO               14            139                8\n",
      "True Email              5              6              214\n",
      "\n",
      "\n",
      "Random Forrests\n",
      "            Predicted PPC  Predicted SEO  Predicted Email\n",
      "True PPC              232              9                2\n",
      "True SEO               12            141                8\n",
      "True Email              3              6              216\n",
      "\n",
      "\n"
     ]
    }
   ],
   "source": [
    "models = {Log_reg:\"Logistic Regression\",MultiNB:\"Mulinomial Naive Bayes\",Ranforr:\"Random Forrests\"}\n",
    "for model in models:\n",
    "    print(models[model])\n",
    "    print(pd.DataFrame(confusion_matrix(y_test['subreddit'],model.predict(X_test[\"Total_text\"])),\n",
    "             index=['True PPC','True SEO','True Email'],\n",
    "             columns=['Predicted PPC','Predicted SEO','Predicted Email']))\n",
    "    print('\\n')"
   ]
  },
  {
   "cell_type": "markdown",
   "metadata": {},
   "source": [
    "Based on the Confusion Matrix's above, we get a general idea of how accurate each model is. In general, the model had the hardest time differentiating between SEO and PPC questions"
   ]
  },
  {
   "cell_type": "markdown",
   "metadata": {},
   "source": [
    "After looking at the Metrics for each model created, I believe that the best model to use in production is the Logistic Regression model, due to its high accuracy, and more distinct probability outputs. Even though Multinomial Naive Bayes is less over fit, I believe that for the purpose of presenting probabilities, Logistic Regression will be more useful, as Logistic Regression tends to have more accurate prediction probabilities."
   ]
  },
  {
   "cell_type": "code",
   "execution_count": 19,
   "metadata": {},
   "outputs": [],
   "source": [
    "coef_index = Log_reg.best_estimator_.named_steps['tfidif'].get_feature_names()\n",
    "coef_df_PPC = pd.DataFrame(Log_reg.best_estimator_.named_steps['Log_reg'].coef_[0], index = coef_index,columns=[\"Coef\"])\n",
    "coef_df_SEO = pd.DataFrame(Log_reg.best_estimator_.named_steps['Log_reg'].coef_[1], index = coef_index,columns=[\"Coef\"])\n",
    "coef_df_Email = pd.DataFrame(Log_reg.best_estimator_.named_steps['Log_reg'].coef_[2], index = coef_index,columns=[\"Coef\"])"
   ]
  },
  {
   "cell_type": "markdown",
   "metadata": {},
   "source": [
    "For the output below, the Coef column tells us that if that word is in a post, than that post is that number times as likely to be in that dataframe's topic as opposed to the other two classes. For example, the first row has the word email. If email were to show up in a post, that post is 80 times more likely to have email as a topic and is less likely to be about either PPC or SEO"
   ]
  },
  {
   "cell_type": "code",
   "execution_count": 20,
   "metadata": {},
   "outputs": [
    {
     "data": {
      "text/html": [
       "<div>\n",
       "<style scoped>\n",
       "    .dataframe tbody tr th:only-of-type {\n",
       "        vertical-align: middle;\n",
       "    }\n",
       "\n",
       "    .dataframe tbody tr th {\n",
       "        vertical-align: top;\n",
       "    }\n",
       "\n",
       "    .dataframe thead th {\n",
       "        text-align: right;\n",
       "    }\n",
       "</style>\n",
       "<table border=\"1\" class=\"dataframe\">\n",
       "  <thead>\n",
       "    <tr style=\"text-align: right;\">\n",
       "      <th></th>\n",
       "      <th>Email_Coef</th>\n",
       "    </tr>\n",
       "  </thead>\n",
       "  <tbody>\n",
       "    <tr>\n",
       "      <th>email</th>\n",
       "      <td>80.019113</td>\n",
       "    </tr>\n",
       "    <tr>\n",
       "      <th>emails</th>\n",
       "      <td>1.419588</td>\n",
       "    </tr>\n",
       "    <tr>\n",
       "      <th>mail</th>\n",
       "      <td>0.240866</td>\n",
       "    </tr>\n",
       "    <tr>\n",
       "      <th>gmail</th>\n",
       "      <td>0.174318</td>\n",
       "    </tr>\n",
       "    <tr>\n",
       "      <th>outlook</th>\n",
       "      <td>0.161601</td>\n",
       "    </tr>\n",
       "    <tr>\n",
       "      <th>spam</th>\n",
       "      <td>0.115360</td>\n",
       "    </tr>\n",
       "    <tr>\n",
       "      <th>send</th>\n",
       "      <td>0.103985</td>\n",
       "    </tr>\n",
       "    <tr>\n",
       "      <th>open</th>\n",
       "      <td>0.051007</td>\n",
       "    </tr>\n",
       "    <tr>\n",
       "      <th>mails</th>\n",
       "      <td>0.050779</td>\n",
       "    </tr>\n",
       "    <tr>\n",
       "      <th>inbox</th>\n",
       "      <td>0.048309</td>\n",
       "    </tr>\n",
       "  </tbody>\n",
       "</table>\n",
       "</div>"
      ],
      "text/plain": [
       "         Email_Coef\n",
       "email     80.019113\n",
       "emails     1.419588\n",
       "mail       0.240866\n",
       "gmail      0.174318\n",
       "outlook    0.161601\n",
       "spam       0.115360\n",
       "send       0.103985\n",
       "open       0.051007\n",
       "mails      0.050779\n",
       "inbox      0.048309"
      ]
     },
     "execution_count": 20,
     "metadata": {},
     "output_type": "execute_result"
    }
   ],
   "source": [
    "coef_df_Email['Email_Coef'] = coef_df_Email['Coef'].apply(lambda x : np.exp(x)/100)\n",
    "coef_df_Email.drop(columns='Coef').sort_values(by='Email_Coef',ascending=False).head(10)"
   ]
  },
  {
   "cell_type": "code",
   "execution_count": 12,
   "metadata": {},
   "outputs": [
    {
     "data": {
      "text/html": [
       "<div>\n",
       "<style scoped>\n",
       "    .dataframe tbody tr th:only-of-type {\n",
       "        vertical-align: middle;\n",
       "    }\n",
       "\n",
       "    .dataframe tbody tr th {\n",
       "        vertical-align: top;\n",
       "    }\n",
       "\n",
       "    .dataframe thead th {\n",
       "        text-align: right;\n",
       "    }\n",
       "</style>\n",
       "<table border=\"1\" class=\"dataframe\">\n",
       "  <thead>\n",
       "    <tr style=\"text-align: right;\">\n",
       "      <th></th>\n",
       "      <th>PPC_Coef</th>\n",
       "    </tr>\n",
       "  </thead>\n",
       "  <tbody>\n",
       "    <tr>\n",
       "      <th>ads</th>\n",
       "      <td>2.177042</td>\n",
       "    </tr>\n",
       "    <tr>\n",
       "      <th>adwords</th>\n",
       "      <td>0.646066</td>\n",
       "    </tr>\n",
       "    <tr>\n",
       "      <th>facebook</th>\n",
       "      <td>0.415548</td>\n",
       "    </tr>\n",
       "    <tr>\n",
       "      <th>ppc</th>\n",
       "      <td>0.392706</td>\n",
       "    </tr>\n",
       "    <tr>\n",
       "      <th>ad</th>\n",
       "      <td>0.382172</td>\n",
       "    </tr>\n",
       "    <tr>\n",
       "      <th>campaigns</th>\n",
       "      <td>0.144568</td>\n",
       "    </tr>\n",
       "    <tr>\n",
       "      <th>fb</th>\n",
       "      <td>0.126225</td>\n",
       "    </tr>\n",
       "    <tr>\n",
       "      <th>campaign</th>\n",
       "      <td>0.122406</td>\n",
       "    </tr>\n",
       "    <tr>\n",
       "      <th>conversion</th>\n",
       "      <td>0.079909</td>\n",
       "    </tr>\n",
       "    <tr>\n",
       "      <th>audience</th>\n",
       "      <td>0.071831</td>\n",
       "    </tr>\n",
       "  </tbody>\n",
       "</table>\n",
       "</div>"
      ],
      "text/plain": [
       "            PPC_Coef\n",
       "ads         2.177042\n",
       "adwords     0.646066\n",
       "facebook    0.415548\n",
       "ppc         0.392706\n",
       "ad          0.382172\n",
       "campaigns   0.144568\n",
       "fb          0.126225\n",
       "campaign    0.122406\n",
       "conversion  0.079909\n",
       "audience    0.071831"
      ]
     },
     "execution_count": 12,
     "metadata": {},
     "output_type": "execute_result"
    }
   ],
   "source": [
    "coef_df_PPC['PPC_Coef'] = coef_df_PPC['Coef'].apply(lambda x : np.exp(x)/100)\n",
    "coef_df_PPC.drop(columns='Coef').sort_values(by='PPC_Coef',ascending=False).head(10)"
   ]
  },
  {
   "cell_type": "code",
   "execution_count": 13,
   "metadata": {},
   "outputs": [
    {
     "data": {
      "text/html": [
       "<div>\n",
       "<style scoped>\n",
       "    .dataframe tbody tr th:only-of-type {\n",
       "        vertical-align: middle;\n",
       "    }\n",
       "\n",
       "    .dataframe tbody tr th {\n",
       "        vertical-align: top;\n",
       "    }\n",
       "\n",
       "    .dataframe thead th {\n",
       "        text-align: right;\n",
       "    }\n",
       "</style>\n",
       "<table border=\"1\" class=\"dataframe\">\n",
       "  <thead>\n",
       "    <tr style=\"text-align: right;\">\n",
       "      <th></th>\n",
       "      <th>SEO_Coef</th>\n",
       "    </tr>\n",
       "  </thead>\n",
       "  <tbody>\n",
       "    <tr>\n",
       "      <th>seo</th>\n",
       "      <td>7.917586</td>\n",
       "    </tr>\n",
       "    <tr>\n",
       "      <th>site</th>\n",
       "      <td>0.199803</td>\n",
       "    </tr>\n",
       "    <tr>\n",
       "      <th>website</th>\n",
       "      <td>0.164803</td>\n",
       "    </tr>\n",
       "    <tr>\n",
       "      <th>google</th>\n",
       "      <td>0.099980</td>\n",
       "    </tr>\n",
       "    <tr>\n",
       "      <th>ranking</th>\n",
       "      <td>0.093153</td>\n",
       "    </tr>\n",
       "    <tr>\n",
       "      <th>link</th>\n",
       "      <td>0.084453</td>\n",
       "    </tr>\n",
       "    <tr>\n",
       "      <th>backlinks</th>\n",
       "      <td>0.081261</td>\n",
       "    </tr>\n",
       "    <tr>\n",
       "      <th>content</th>\n",
       "      <td>0.070601</td>\n",
       "    </tr>\n",
       "    <tr>\n",
       "      <th>rank</th>\n",
       "      <td>0.065444</td>\n",
       "    </tr>\n",
       "    <tr>\n",
       "      <th>sites</th>\n",
       "      <td>0.064561</td>\n",
       "    </tr>\n",
       "  </tbody>\n",
       "</table>\n",
       "</div>"
      ],
      "text/plain": [
       "           SEO_Coef\n",
       "seo        7.917586\n",
       "site       0.199803\n",
       "website    0.164803\n",
       "google     0.099980\n",
       "ranking    0.093153\n",
       "link       0.084453\n",
       "backlinks  0.081261\n",
       "content    0.070601\n",
       "rank       0.065444\n",
       "sites      0.064561"
      ]
     },
     "execution_count": 13,
     "metadata": {},
     "output_type": "execute_result"
    }
   ],
   "source": [
    "coef_df_SEO['SEO_Coef'] = coef_df_SEO['Coef'].apply(lambda x : np.exp(x)/100)\n",
    "coef_df_SEO.drop(columns='Coef').sort_values(by='SEO_Coef',ascending=False).head(10)"
   ]
  },
  {
   "cell_type": "markdown",
   "metadata": {},
   "source": [
    "# Interactive Probability Charts"
   ]
  },
  {
   "cell_type": "markdown",
   "metadata": {},
   "source": [
    "This function takes in a string argument, and then outputs what my model is \"thinking\". The y-axis shows how confident my model is guessing the category of the question being passed through the model. "
   ]
  },
  {
   "cell_type": "code",
   "execution_count": 14,
   "metadata": {},
   "outputs": [],
   "source": [
    "def Probaplot(string):\n",
    "    print_dict = {0:'PPC',1:\"SEO\",2:\"Email\"}\n",
    "    df = pd.DataFrame(Log_reg.predict_proba([string]),columns= [\"PPC\",'SEO','Email'],index = [\"Probability\"]).T\n",
    "    f,ax = plt.subplots(figsize=(15,8))\n",
    "    sns.barplot(y = df[\"Probability\"],x=df.index,ax=ax)\n",
    "    plt.title(string,fontsize=20)\n",
    "    print('This question should be sent to the',print_dict[int(Log_reg.predict([string]))],'expert')"
   ]
  },
  {
   "cell_type": "code",
   "execution_count": 15,
   "metadata": {},
   "outputs": [
    {
     "name": "stdout",
     "output_type": "stream",
     "text": [
      "This question should be sent to the PPC expert\n"
     ]
    },
    {
     "data": {
      "image/png": "[encoded data removed]",
      "text/plain": [
       "<matplotlib.figure.Figure at 0x1d065e6f2e8>"
      ]
     },
     "metadata": {},
     "output_type": "display_data"
    }
   ],
   "source": [
    "Probaplot('How do i advertise on facebook?')"
   ]
  },
  {
   "cell_type": "code",
   "execution_count": 16,
   "metadata": {},
   "outputs": [
    {
     "name": "stdout",
     "output_type": "stream",
     "text": [
      "This question should be sent to the Email expert\n"
     ]
    },
    {
     "data": {
      "image/png": "[encoded data removed]",
      "text/plain": [
       "<matplotlib.figure.Figure at 0x1d065f877f0>"
      ]
     },
     "metadata": {},
     "output_type": "display_data"
    }
   ],
   "source": [
    "Probaplot('How do i send a message to my list of subscribers?')"
   ]
  },
  {
   "cell_type": "code",
   "execution_count": 17,
   "metadata": {},
   "outputs": [
    {
     "name": "stdout",
     "output_type": "stream",
     "text": [
      "This question should be sent to the SEO expert\n"
     ]
    },
    {
     "data": {
      "image/png": "[encoded data removed]",
      "text/plain": [
       "<matplotlib.figure.Figure at 0x1d0661d3518>"
      ]
     },
     "metadata": {},
     "output_type": "display_data"
    }
   ],
   "source": [
    "Probaplot('How do i get my website to the top of the search organicaly?')"
   ]
  },
  {
   "cell_type": "code",
   "execution_count": 18,
   "metadata": {},
   "outputs": [
    {
     "name": "stdout",
     "output_type": "stream",
     "text": [
      "This question should be sent to the PPC expert\n"
     ]
    },
    {
     "data": {
      "image/png": "[encoded data removed]",
      "text/plain": [
       "<matplotlib.figure.Figure at 0x1d066229860>"
      ]
     },
     "metadata": {},
     "output_type": "display_data"
    }
   ],
   "source": [
    "Probaplot('Im having issues with my adwords account, what should i do?')"
   ]
  }
 ],
 "metadata": {
  "kernelspec": {
   "display_name": "Python 3",
   "language": "python",
   "name": "python3"
  },
  "language_info": {
   "codemirror_mode": {
    "name": "ipython",
    "version": 3
   },
   "file_extension": ".py",
   "mimetype": "text/x-python",
   "name": "python",
   "nbconvert_exporter": "python",
   "pygments_lexer": "ipython3",
   "version": "3.6.4"
  }
 },
 "nbformat": 4,
 "nbformat_minor": 2
}
