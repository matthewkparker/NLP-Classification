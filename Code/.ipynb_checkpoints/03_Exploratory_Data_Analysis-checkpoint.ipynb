{
 "cells": [
  {
   "cell_type": "markdown",
   "metadata": {},
   "source": [
    "# Exploratory Data Analysis"
   ]
  },
  {
   "cell_type": "code",
   "execution_count": 1,
   "metadata": {},
   "outputs": [],
   "source": [
    "import pandas as pd\n",
    "import numpy as np\n",
    "import matplotlib.pyplot as plt\n",
    "import seaborn as sns\n",
    "from sklearn.feature_extraction.text import CountVectorizer\n",
    "from sklearn.feature_extraction import stop_words\n",
    "import pickle\n",
    "import warnings; warnings.simplefilter('ignore')"
   ]
  },
  {
   "cell_type": "code",
   "execution_count": 2,
   "metadata": {},
   "outputs": [],
   "source": [
    "X = pd.read_csv('../Data/X.csv',index_col=0)\n",
    "y = pd.read_csv('../Data/y.csv',index_col=0)"
   ]
  },
  {
   "cell_type": "markdown",
   "metadata": {},
   "source": [
    "Count Vectorizer goes through every post, and for ever word separated by punctuation, it creates a column, and assigns the resulting cell the integer that corresponds to the amount each word appears in each post"
   ]
  },
  {
   "cell_type": "code",
   "execution_count": 3,
   "metadata": {},
   "outputs": [],
   "source": [
    "CV = CountVectorizer(stop_words='english',min_df=5)\n",
    "X_CV = CV.fit_transform(X[\"Total_text\"])"
   ]
  },
  {
   "cell_type": "code",
   "execution_count": 4,
   "metadata": {},
   "outputs": [],
   "source": [
    "df = pd.DataFrame(X_CV.toarray(), columns=CV.get_feature_names())\n",
    "df['reddit_target'] = list(y['subreddit'])"
   ]
  },
  {
   "cell_type": "markdown",
   "metadata": {},
   "source": [
    "The Output in the cell below is the list of the top 15 most common words for the email reddit, and how often they appear in our corpus, except for reddit_target which should be ignored, as it is our target variable, and not part of our NLP analysis."
   ]
  },
  {
   "cell_type": "code",
   "execution_count": 5,
   "metadata": {},
   "outputs": [
    {
     "data": {
      "text/plain": [
       "email            2017\n",
       "reddit_target    1804\n",
       "emails            722\n",
       "com               484\n",
       "mail              382\n",
       "like              366\n",
       "gmail             336\n",
       "send              324\n",
       "account           323\n",
       "use               310\n",
       "gt                295\n",
       "spam              292\n",
       "address           289\n",
       "just              260\n",
       "ve                259\n",
       "dtype: int64"
      ]
     },
     "execution_count": 5,
     "metadata": {},
     "output_type": "execute_result"
    }
   ],
   "source": [
    "df[df[\"reddit_target\"] == 2].sum().sort_values(ascending=False).head(15)"
   ]
  },
  {
   "cell_type": "markdown",
   "metadata": {},
   "source": [
    "The Output in the cell below is the list of the top 15 most common words for the SEO reddit, and how often they appear in our corpus, except for reddit_target, which should be ignored, as it is our target variable, and not part of our NLP analysis."
   ]
  },
  {
   "cell_type": "code",
   "execution_count": 6,
   "metadata": {},
   "outputs": [
    {
     "data": {
      "text/plain": [
       "seo              663\n",
       "reddit_target    643\n",
       "google           432\n",
       "site             374\n",
       "website          373\n",
       "page             355\n",
       "content          265\n",
       "com              224\n",
       "like             215\n",
       "amp              211\n",
       "just             200\n",
       "search           200\n",
       "pages            189\n",
       "new              178\n",
       "ve               172\n",
       "dtype: int64"
      ]
     },
     "execution_count": 6,
     "metadata": {},
     "output_type": "execute_result"
    }
   ],
   "source": [
    "df[df[\"reddit_target\"] == 1].sum().sort_values(ascending=False).head(15)"
   ]
  },
  {
   "cell_type": "markdown",
   "metadata": {},
   "source": [
    "The Output in the cell below is the list of the top 15 most common words for the PPC reddit, and how often they appear in our corpus"
   ]
  },
  {
   "cell_type": "code",
   "execution_count": 7,
   "metadata": {},
   "outputs": [
    {
     "data": {
      "text/plain": [
       "ads          853\n",
       "ad           597\n",
       "google       594\n",
       "facebook     493\n",
       "campaign     445\n",
       "adwords      429\n",
       "campaigns    320\n",
       "like         308\n",
       "ve           292\n",
       "just         291\n",
       "page         270\n",
       "account      262\n",
       "new          251\n",
       "ppc          245\n",
       "search       243\n",
       "dtype: int64"
      ]
     },
     "execution_count": 7,
     "metadata": {},
     "output_type": "execute_result"
    }
   ],
   "source": [
    "df[df[\"reddit_target\"] == 0].sum().sort_values(ascending=False).head(15)"
   ]
  },
  {
   "cell_type": "markdown",
   "metadata": {},
   "source": [
    "Using the information above, I decided to add the words com and ve to my list of stopwords. because I believe that they offer no additional information to help my models."
   ]
  },
  {
   "cell_type": "code",
   "execution_count": 8,
   "metadata": {},
   "outputs": [],
   "source": [
    "custom_stop_words = list(stop_words.ENGLISH_STOP_WORDS)\n",
    "additional_stop_words = ['com','ve','just']\n",
    "custom_stop_words = custom_stop_words + additional_stop_words"
   ]
  },
  {
   "cell_type": "markdown",
   "metadata": {},
   "source": [
    "This cell is preparing the data to show the top 15 used words for each subreddit in a barplot"
   ]
  },
  {
   "cell_type": "code",
   "execution_count": 9,
   "metadata": {},
   "outputs": [],
   "source": [
    "df.drop(columns=additional_stop_words,inplace=True)\n",
    "ppc = df[df[\"reddit_target\"] == 0].sum().sort_values(ascending=False).head(15)\n",
    "seo = df[df[\"reddit_target\"] == 1].sum().sort_values(ascending=False).head(16)\n",
    "seo.drop(labels=\"reddit_target\",inplace=True)\n",
    "email = df[df[\"reddit_target\"] == 2].sum().sort_values(ascending=False).head(16)\n",
    "email.drop(labels=\"reddit_target\",inplace=True)"
   ]
  },
  {
   "cell_type": "code",
   "execution_count": 10,
   "metadata": {},
   "outputs": [
    {
     "data": {
      "text/plain": [
       "Text(0.5,1,'PPC Top 15 Words')"
      ]
     },
     "execution_count": 10,
     "metadata": {},
     "output_type": "execute_result"
    },
    {
     "data": {
      "image/png": "[encoded data removed]",
      "text/plain": [
       "<matplotlib.figure.Figure at 0x1604d414630>"
      ]
     },
     "metadata": {},
     "output_type": "display_data"
    }
   ],
   "source": [
    "f,ax = plt.subplots(figsize=(15,8))\n",
    "sns.barplot(x=ppc.index,y=ppc.values, ax=ax,color='green')\n",
    "plt.title(\"PPC Top 15 Words\",fontsize=30)"
   ]
  },
  {
   "cell_type": "code",
   "execution_count": 11,
   "metadata": {},
   "outputs": [
    {
     "data": {
      "text/plain": [
       "Text(0.5,1,'SEO Top 15 Words')"
      ]
     },
     "execution_count": 11,
     "metadata": {},
     "output_type": "execute_result"
    },
    {
     "data": {
      "image/png": "[encoded data removed]",
      "text/plain": [
       "<matplotlib.figure.Figure at 0x1604d5077b8>"
      ]
     },
     "metadata": {},
     "output_type": "display_data"
    }
   ],
   "source": [
    "f,ax = plt.subplots(figsize=(15,8))\n",
    "sns.barplot(x=seo.index,y=seo.values, ax=ax,color='green')\n",
    "plt.title(\"SEO Top 15 Words\",fontsize=30)"
   ]
  },
  {
   "cell_type": "code",
   "execution_count": 12,
   "metadata": {},
   "outputs": [
    {
     "data": {
      "text/plain": [
       "Text(0.5,1,'Email Top 15 Words')"
      ]
     },
     "execution_count": 12,
     "metadata": {},
     "output_type": "execute_result"
    },
    {
     "data": {
      "image/png": "[encoded data removed]",
      "text/plain": [
       "<matplotlib.figure.Figure at 0x16050de8470>"
      ]
     },
     "metadata": {},
     "output_type": "display_data"
    }
   ],
   "source": [
    "f,ax = plt.subplots(figsize=(15,8))\n",
    "sns.barplot(x=email.index,y=email.values, ax=ax,color='green')\n",
    "plt.title(\"Email Top 15 Words\",fontsize=30)"
   ]
  },
  {
   "cell_type": "markdown",
   "metadata": {},
   "source": [
    "###### This cell saves my custom stop words list to be used when processing our data"
   ]
  },
  {
   "cell_type": "code",
   "execution_count": 13,
   "metadata": {},
   "outputs": [],
   "source": [
    "with open('../Assets/custom_stop_words.pkl','wb+') as f:\n",
    "    pickle.dump(custom_stop_words,f)"
   ]
  }
 ],
 "metadata": {
  "kernelspec": {
   "display_name": "Python 3",
   "language": "python",
   "name": "python3"
  },
  "language_info": {
   "codemirror_mode": {
    "name": "ipython",
    "version": 3
   },
   "file_extension": ".py",
   "mimetype": "text/x-python",
   "name": "python",
   "nbconvert_exporter": "python",
   "pygments_lexer": "ipython3",
   "version": "3.6.4"
  }
 },
 "nbformat": 4,
 "nbformat_minor": 2
}
