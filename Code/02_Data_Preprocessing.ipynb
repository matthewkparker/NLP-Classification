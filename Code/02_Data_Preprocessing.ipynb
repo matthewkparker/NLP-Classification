{
 "cells": [
  {
   "cell_type": "markdown",
   "metadata": {},
   "source": [
    "# Data Preprocessing"
   ]
  },
  {
   "cell_type": "code",
   "execution_count": 1,
   "metadata": {},
   "outputs": [],
   "source": [
    "import pandas as pd\n",
    "import numpy as np\n",
    "from sklearn.model_selection import train_test_split\n",
    "import warnings; warnings.simplefilter('ignore')"
   ]
  },
  {
   "cell_type": "markdown",
   "metadata": {},
   "source": [
    "Reading in the Data from Data Gathering"
   ]
  },
  {
   "cell_type": "code",
   "execution_count": 2,
   "metadata": {},
   "outputs": [],
   "source": [
    "ppc_df = pd.read_csv('../Data/PPC.csv')\n",
    "seo_df = pd.read_csv('../Data/SEO.csv')\n",
    "email_df = pd.read_csv('../Data/email1.csv')\n",
    "extra_email = pd.read_csv('../Data/email2.csv')"
   ]
  },
  {
   "cell_type": "markdown",
   "metadata": {},
   "source": [
    "Combining my two email dataframes into one"
   ]
  },
  {
   "cell_type": "code",
   "execution_count": 3,
   "metadata": {},
   "outputs": [],
   "source": [
    "email_df = pd.concat([email_df,extra_email])"
   ]
  },
  {
   "cell_type": "markdown",
   "metadata": {},
   "source": [
    "### For each data frame I am going through the following steps\n",
    "1. Creating a new column, Total text, which is a combination of each reddit post's title and self text\n",
    "2. Assigning each dataframe a value, either 0, 1, or 2, to identify which subreddit each post came from\n",
    "3. Filling all null values with an empty string, which ensures that our data frame does not have any null values\n",
    "4. Removing all columns that are not Total text, or subreddit.\n",
    "5. dropping all posts that have the same Total text"
   ]
  },
  {
   "cell_type": "code",
   "execution_count": 4,
   "metadata": {},
   "outputs": [],
   "source": [
    "list_of_df = [ppc_df,seo_df,email_df]\n",
    "i=0\n",
    "for df in list_of_df:\n",
    "    df['Total_text'] = df['title'] + df['selftext']\n",
    "    df['subreddit'] = i\n",
    "    df.fillna(\" \",inplace=True)\n",
    "    cols_to_drop = list(df.columns)\n",
    "    cols_to_drop.remove('Total_text')\n",
    "    cols_to_drop.remove('subreddit')\n",
    "    df.drop(columns=cols_to_drop,inplace=True)\n",
    "    df.drop_duplicates(subset=\"Total_text\",inplace=True)\n",
    "    i += 1"
   ]
  },
  {
   "cell_type": "markdown",
   "metadata": {},
   "source": [
    "Combining all Data into one Dataframe"
   ]
  },
  {
   "cell_type": "code",
   "execution_count": 5,
   "metadata": {},
   "outputs": [],
   "source": [
    "final_df = pd.concat([ppc_df,seo_df,email_df])"
   ]
  },
  {
   "cell_type": "markdown",
   "metadata": {},
   "source": [
    "Checking to ensure that our data is balanced"
   ]
  },
  {
   "cell_type": "code",
   "execution_count": 6,
   "metadata": {},
   "outputs": [
    {
     "data": {
      "text/plain": [
       "0    970\n",
       "2    902\n",
       "1    643\n",
       "Name: subreddit, dtype: int64"
      ]
     },
     "execution_count": 6,
     "metadata": {},
     "output_type": "execute_result"
    }
   ],
   "source": [
    "final_df['subreddit'].value_counts()"
   ]
  },
  {
   "cell_type": "markdown",
   "metadata": {},
   "source": [
    "Even though SEO has fewer unique posts that email and PPC, we should still be able to have accurate predictions if we stratify our train test split on the y variable"
   ]
  },
  {
   "cell_type": "markdown",
   "metadata": {},
   "source": [
    "###### Defining our X and y variables"
   ]
  },
  {
   "cell_type": "code",
   "execution_count": 7,
   "metadata": {},
   "outputs": [],
   "source": [
    "y = final_df['subreddit']\n",
    "X = final_df['Total_text']"
   ]
  },
  {
   "cell_type": "code",
   "execution_count": 8,
   "metadata": {},
   "outputs": [],
   "source": [
    "X_train, X_test, y_train, y_test = train_test_split(X, y, random_state=42,stratify = y)"
   ]
  },
  {
   "cell_type": "code",
   "execution_count": 9,
   "metadata": {},
   "outputs": [],
   "source": [
    "y_train.to_csv('../Data/y_train.csv',header=True)\n",
    "X_train.to_csv('../Data/X_train.csv',header=True)\n",
    "y_test.to_csv('../Data/y_test.csv',header=True)\n",
    "X_test.to_csv('../Data/X_test.csv',header=True)"
   ]
  }
 ],
 "metadata": {
  "kernelspec": {
   "display_name": "Python 3",
   "language": "python",
   "name": "python3"
  },
  "language_info": {
   "codemirror_mode": {
    "name": "ipython",
    "version": 3
   },
   "file_extension": ".py",
   "mimetype": "text/x-python",
   "name": "python",
   "nbconvert_exporter": "python",
   "pygments_lexer": "ipython3",
   "version": "3.6.4"
  }
 },
 "nbformat": 4,
 "nbformat_minor": 2
}
